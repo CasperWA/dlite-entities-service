{
 "cells": [
  {
   "attachments": {},
   "cell_type": "markdown",
   "metadata": {},
   "source": [
    "# Example of how it should work\n",
    "\n",
    "It is expected that one has the following:\n",
    "\n",
    "- Installed:\n",
    "  - Local `entities_service` package.\n",
    "  - `requests`\n",
    "  - `DLite-Python`\n",
    "- Running Entities Service at `http://localhost:7000` setup to connect to SOFT Cluster on MongoDB Atlas."
   ]
  },
  {
   "cell_type": "code",
   "execution_count": 3,
   "metadata": {},
   "outputs": [
    {
     "name": "stdout",
     "output_type": "stream",
     "text": [
      "{\n",
      "  \"uuid\": \"bfab98d3-1b32-51f6-bda7-3e2a2e30a089\",\n",
      "  \"uri\": \"http://onto-ns.com/meta/1.0/OPTIMADEStructure\",\n",
      "  \"meta\": \"http://onto-ns.com/meta/0.3/EntitySchema\",\n",
      "  \"description\": \"An OPTIMADE structure.\",\n",
      "  \"dimensions\": {},\n",
      "  \"properties\": {\n",
      "    \"type\": {\n",
      "      \"type\": \"string\",\n",
      "      \"description\": \"The name of the type of an entry. Must always be 'structures'.\"\n",
      "    },\n",
      "    \"attributes\": {\n",
      "      \"type\": \"ref\",\n",
      "      \"description\": \"The attributes used to represent a structure, e.g. unit cell, atoms, positions.\"\n",
      "    },\n",
      "    \"id\": {\n",
      "      \"type\": \"string\",\n",
      "      \"description\": \"An entry's ID as defined in section Definition of Terms.\"\n",
      "    }\n",
      "  }\n",
      "}\n"
     ]
    }
   ],
   "source": [
    "from dlite_example import get_instance\n",
    "\n",
    "instance = get_instance(\"http://onto-ns.com/meta/1.0/OPTIMADEStructure\")\n",
    "print(instance)"
   ]
  }
 ],
 "metadata": {
  "kernelspec": {
   "display_name": "entities-service",
   "language": "python",
   "name": "python3"
  },
  "language_info": {
   "codemirror_mode": {
    "name": "ipython",
    "version": 3
   },
   "file_extension": ".py",
   "mimetype": "text/x-python",
   "name": "python",
   "nbconvert_exporter": "python",
   "pygments_lexer": "ipython3",
   "version": "3.10.10"
  },
  "orig_nbformat": 4
 },
 "nbformat": 4,
 "nbformat_minor": 2
}
